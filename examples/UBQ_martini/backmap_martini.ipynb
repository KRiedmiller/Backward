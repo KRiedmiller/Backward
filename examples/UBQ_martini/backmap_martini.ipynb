{
 "cells": [
  {
   "cell_type": "markdown",
   "metadata": {},
   "source": [
    "# Backmap a MARTINI CG structure\n",
    "To obtain an atomistic structure from coarse grained simulations we need a CG structure and a topology file for the atomistic system."
   ]
  },
  {
   "cell_type": "code",
   "execution_count": 1,
   "metadata": {},
   "outputs": [],
   "source": [
    "import sys\n",
    "sys.path.insert(0, '../..')\n",
    "import backward\n",
    "import running_rabbit as rr"
   ]
  },
  {
   "cell_type": "code",
   "execution_count": 2,
   "metadata": {},
   "outputs": [],
   "source": [
    "# input\n",
    "cg_structure = \"2xUBQ_cg.pdb\"            # coarse grained structure for backmapping\n",
    "aa_topology  = \"2xUBQ_aa.top\"            # atomistic topology\n",
    "\n",
    "# output\n",
    "aa_structure_raw = \"2xUBQ_aa_raw.gro\"    # initial structure after running backward.py\n",
    "aa_structure     = \"2xUBQ_aa.gro\"        # final structure after energy min.\n",
    "path_em          = \"./em_after_backmap\"  # dir for running rabbit"
   ]
  },
  {
   "cell_type": "markdown",
   "metadata": {},
   "source": [
    "## Backmapping"
   ]
  },
  {
   "cell_type": "code",
   "execution_count": 3,
   "metadata": {},
   "outputs": [
    {
     "name": "stdout",
     "output_type": "stream",
     "text": [
      "Error reading charmm27 to martini mapping for POPG (file: ../../Mapping/pops.amber.map).\n",
      "Error reading charmm36 to martini mapping for POPG (file: ../../Mapping/pops.amber.map).\n",
      "Error reading slipids to martini mapping for POPG (file: ../../Mapping/pops.amber.map).\n",
      "Error reading amber to martini mapping for POPG (file: ../../Mapping/pops.amber.map).\n",
      "Error reading charmm27 to martini mapping for DOPE (file: ../../Mapping/dopg.charmm36.map).\n",
      "Error reading charmm36 to martini mapping for DOPE (file: ../../Mapping/dopg.charmm36.map).\n",
      "Error reading slipids to martini mapping for DOPE (file: ../../Mapping/dopg.charmm36.map).\n",
      "Error reading amber to martini mapping for DOPE (file: ../../Mapping/dopg.charmm36.map).\n",
      "Error reading charmm27 to martini mapping for DOPG (file: ../../Mapping/dops.charmm36.map).\n",
      "Error reading charmm36 to martini mapping for DOPG (file: ../../Mapping/dops.charmm36.map).\n",
      "Error reading slipids to martini mapping for DOPG (file: ../../Mapping/dops.charmm36.map).\n",
      "Error reading amber to martini mapping for DOPG (file: ../../Mapping/dops.charmm36.map).\n",
      "Error reading charmm27 to martini mapping for DOPS (file: ../../Mapping/tocl2.charmm.map).\n",
      "Error reading charmm36 to martini mapping for DOPS (file: ../../Mapping/tocl2.charmm.map).\n",
      "Error reading slipids to martini mapping for DOPS (file: ../../Mapping/tocl2.charmm.map).\n",
      "Error reading amber to martini mapping for DOPS (file: ../../Mapping/tocl2.charmm.map).\n",
      "Error reading charmm27 to martini mapping for TOCL2 (file: ../../Mapping/tocl2.charmm.map).\n",
      "Error reading charmm36 to martini mapping for TOCL2 (file: ../../Mapping/tocl2.charmm.map).\n",
      "Error reading slipids to martini mapping for TOCL2 (file: ../../Mapping/tocl2.charmm.map).\n",
      "Error reading amber to martini mapping for TOCL2 (file: ../../Mapping/tocl2.charmm.map).\n",
      "Residues defined for transformation from martini to gromos:\n",
      "dict_keys(['ALA', 'AOT', 'ARG', 'ASN', 'ASP', 'CL4', 'CL4M', 'CHOL', 'CL4O', 'CYS', 'DMPC', 'DOPC', 'DOPE', 'DPG1', 'DPPC', 'DSPC', 'GLN', 'GLQ', 'GLU', 'GLUC', 'GLY', 'HEP', 'HIS', 'ILE', 'LEU', 'LYQ', 'LYS', 'MET', 'MGDG', 'PHE', 'POPC', 'POPE', 'POPS', 'PRO', 'SEP', 'SER', 'THR', 'TRE', 'TRP', 'TYR', 'VAL'])\n"
     ]
    }
   ],
   "source": [
    "args = '-f {} -p {} -o {} -to gromos -kick 0.05'.format(cg_structure, aa_topology, aa_structure_raw)\n",
    "args_list = args.split()\n",
    "backward.workflow(args_list)"
   ]
  },
  {
   "cell_type": "markdown",
   "metadata": {},
   "source": [
    "---\n",
    "The atomistic structure after backmapping is highly unphysical and has to be energy minimized to obtain a proper structure. Therefore, we perform energy minimization in three steps:\n",
    "1. Energy minimization with l-bfgs \n",
    "2. Backbone position restrained, bigger em step, lower force threshold, no bond constraints\n",
    "3. no position restraints, bigger em step, lower force threshold, bonds constrained with LINKS \n",
    "---"
   ]
  },
  {
   "cell_type": "markdown",
   "metadata": {},
   "source": [
    "## Running rabbit\n",
    "\n",
    "Running rabbit performes simulation routines defined in templates for reproducable energy minimization"
   ]
  },
  {
   "cell_type": "code",
   "execution_count": 5,
   "metadata": {},
   "outputs": [
    {
     "data": {
      "text/plain": [
       "True"
      ]
     },
     "execution_count": 5,
     "metadata": {},
     "output_type": "execute_result"
    }
   ],
   "source": [
    "rabbit              = rr.Rabbit(ff=\"gromos54a7\", template_name=\"backmap_em_bfgs\")\n",
    "rabbit.structure    = aa_structure_raw\n",
    "rabbit.topology     = aa_topology\n",
    "rabbit.destination  = path_em\n",
    "# make all necessary run files like .mdp\n",
    "rabbit.run()"
   ]
  },
  {
   "cell_type": "code",
   "execution_count": 6,
   "metadata": {},
   "outputs": [],
   "source": [
    "# run energy minimization and equilibration\n",
    "!cd {path_em} && bash setup"
   ]
  },
  {
   "cell_type": "code",
   "execution_count": 7,
   "metadata": {},
   "outputs": [],
   "source": [
    "# copy final structure\n",
    "!cp {path_em}/eq5.gro {aa_structure}"
   ]
  },
  {
   "cell_type": "code",
   "execution_count": 8,
   "metadata": {},
   "outputs": [
    {
     "name": "stdout",
     "output_type": "stream",
     "text": [
      "                      :-) GROMACS - gmx editconf, 2020 (-:\r\n",
      "\r\n",
      "                            GROMACS is written by:\r\n",
      "     Emile Apol      Rossen Apostolov      Paul Bauer     Herman J.C. Berendsen\r\n",
      "    Par Bjelkmar      Christian Blau   Viacheslav Bolnykh     Kevin Boyd    \r\n",
      " Aldert van Buuren   Rudi van Drunen     Anton Feenstra       Alan Gray     \r\n",
      "  Gerrit Groenhof     Anca Hamuraru    Vincent Hindriksen  M. Eric Irrgang  \r\n",
      "  Aleksei Iupinov   Christoph Junghans     Joe Jordan     Dimitrios Karkoulis\r\n",
      "    Peter Kasson        Jiri Kraus      Carsten Kutzner      Per Larsson    \r\n",
      "  Justin A. Lemkul    Viveca Lindahl    Magnus Lundborg     Erik Marklund   \r\n",
      "    Pascal Merz     Pieter Meulenhoff    Teemu Murtola       Szilard Pall   \r\n",
      "    Sander Pronk      Roland Schulz      Michael Shirts    Alexey Shvetsov  \r\n",
      "   Alfons Sijbers     Peter Tieleman      Jon Vincent      Teemu Virolainen \r\n",
      " Christian Wennberg    Maarten Wolf      Artem Zhmurov   \r\n",
      "                           and the project leaders:\r\n",
      "        Mark Abraham, Berk Hess, Erik Lindahl, and David van der Spoel\r\n",
      "\r\n",
      "Copyright (c) 1991-2000, University of Groningen, The Netherlands.\r\n",
      "Copyright (c) 2001-2019, The GROMACS development team at\r\n",
      "Uppsala University, Stockholm University and\r\n",
      "the Royal Institute of Technology, Sweden.\r\n",
      "check out http://www.gromacs.org for more information.\r\n",
      "\r\n",
      "GROMACS is free software; you can redistribute it and/or modify it\r\n",
      "under the terms of the GNU Lesser General Public License\r\n",
      "as published by the Free Software Foundation; either version 2.1\r\n",
      "of the License, or (at your option) any later version.\r\n",
      "\r\n",
      "GROMACS:      gmx editconf, version 2020\r\n",
      "Executable:   /home/soft/gromacs/gromacs-2020/inst/cuda_shared_18.04/bin/gmx\r\n",
      "Data prefix:  /home/soft/gromacs/gromacs-2020/inst/cuda_shared_18.04\r\n",
      "Working dir:  /home/kair/git/Backward/examples/UBQ_martini\r\n",
      "Command line:\r\n",
      "  gmx editconf -f 2xUBQ_aa.gro -o 2xUBQ_aa.gro -pbc yes\r\n",
      "\r\n",
      "Note that major changes are planned in future for editconf, to improve usability and utility.\r\n",
      "Read 1524 atoms\r\n",
      "Volume: 1006.32 nm^3, corresponds to roughly 452800 electrons\r\n",
      "Velocities found\r\n",
      "\r\n",
      "Back Off! I just backed up 2xUBQ_aa.gro to ./#2xUBQ_aa.gro.1#\r\n",
      "\r\n",
      "GROMACS reminds you: \"It all works because Avogadro's number is closer to infinity than to 10.\" (Ralph Baierlein)\r\n",
      "\r\n"
     ]
    }
   ],
   "source": [
    "# note: some atoms are not in the first unit cell after mackmapping\n",
    "# resolve by:\n",
    "!gmx editconf -f {aa_structure} -o {aa_structure} -pbc yes"
   ]
  },
  {
   "cell_type": "code",
   "execution_count": null,
   "metadata": {},
   "outputs": [],
   "source": []
  }
 ],
 "metadata": {
  "kernelspec": {
   "display_name": "Python 3.7.6 64-bit ('openmm': conda)",
   "language": "python",
   "name": "python37664bitopenmmconda67a9b515433c41a88b5e0f40fc8fefdb"
  },
  "language_info": {
   "codemirror_mode": {
    "name": "ipython",
    "version": 3
   },
   "file_extension": ".py",
   "mimetype": "text/x-python",
   "name": "python",
   "nbconvert_exporter": "python",
   "pygments_lexer": "ipython3",
   "version": "3.7.6"
  },
  "toc": {
   "base_numbering": 1,
   "nav_menu": {},
   "number_sections": true,
   "sideBar": true,
   "skip_h1_title": false,
   "title_cell": "Table of Contents",
   "title_sidebar": "Contents",
   "toc_cell": false,
   "toc_position": {},
   "toc_section_display": true,
   "toc_window_display": false
  }
 },
 "nbformat": 4,
 "nbformat_minor": 2
}
