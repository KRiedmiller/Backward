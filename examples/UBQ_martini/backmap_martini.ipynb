{
 "cells": [
  {
   "cell_type": "markdown",
   "metadata": {},
   "source": [
    "To obtain an atomistic structure from coarse grained simulations we need a CG structure and a topology file for the atomistic system."
   ]
  },
  {
   "cell_type": "code",
   "execution_count": 1,
   "metadata": {},
   "outputs": [],
   "source": [
    "import running_rabbit as rr"
   ]
  },
  {
   "cell_type": "code",
   "execution_count": 5,
   "metadata": {},
   "outputs": [],
   "source": [
    "# input\n",
    "cg_structure = \"2xUBQ_cg.pdb\"\n",
    "aa_topology  = \"2xUBQ_aa.top\"\n",
    "\n",
    "# output\n",
    "aa_structure_raw = \"2xUBQ_aa_raw.gro\"    # initial structure after running backward.py\n",
    "aa_structure     = \"2xUBQ_aa.pdb\"        # final structure after energy min.\n",
    "path_em          = \"./em_after_backmap\""
   ]
  },
  {
   "cell_type": "code",
   "execution_count": 6,
   "metadata": {},
   "outputs": [],
   "source": [
    "# HOTFIX, convert into package at some point?\n",
    "backward = \"python /home/andrejb/Software/Backward/backward.py\""
   ]
  },
  {
   "cell_type": "code",
   "execution_count": 7,
   "metadata": {},
   "outputs": [
    {
     "name": "stdout",
     "output_type": "stream",
     "text": [
      "Error reading alex to martini mapping for DLPC (file: /home/andrejb/Software/Backward/Mapping/lys.charmm36.map).\n",
      "Error reading alex to martini mapping for DGPC (file: /home/andrejb/Software/Backward/Mapping/lys.gromos.map).\n",
      "Error reading alex to martini mapping for DOPC.5 (file: /home/andrejb/Software/Backward/Mapping/lys.gromos.map).\n",
      "Error reading alex to martini mapping for DALPC (file: /home/andrejb/Software/Backward/Mapping/lys.gromos.map).\n",
      "Error reading alex to martini mapping for DOPC.4 (file: /home/andrejb/Software/Backward/Mapping/cl4.gromos.map).\n",
      "Error reading alex to martini mapping for DLiPC (file: /home/andrejb/Software/Backward/Mapping/cl4.gromos.map).\n",
      "Error reading alex to martini mapping for DPPC (file: /home/andrejb/Software/Backward/Mapping/cl4.gromos.map).\n",
      "Error reading alex to martini mapping for DPG1 (file: /home/andrejb/Software/Backward/Mapping/val.charmm36.map).\n",
      "Error reading gromos to martini mapping for MGDG (file: /home/andrejb/Software/Backward/Mapping/sep.gromos.map).\n",
      "Residues defined for transformation from martini to gromos:\n",
      "['POPC', 'GLN', 'ILE', 'POPE', 'DOPC', 'POPS', 'GLY', 'GLU0', 'GLQ', 'MGDG', 'GLU', 'CYS', 'HIS', 'SER', 'SEP', 'PRO', 'CHOL', 'GLUC', 'AOT', 'CL4', 'ASN', 'DMPC', 'HEP', 'VAL', 'DPG1', 'DOPE', 'DPPC', 'TRE', 'THR', 'CL4M', 'ASP', 'ASP0', 'TRP', 'LYQ', 'DSPC', 'LYS', 'PHE', 'ALA', 'MET', 'LEU', 'ARG', 'TYR']\n"
     ]
    }
   ],
   "source": [
    "# perform backmapping\n",
    "!{backward} -f {cg_structure} -p {aa_topology} -o {aa_structure_raw} -to gromos -kick 0.05"
   ]
  },
  {
   "cell_type": "code",
   "execution_count": 8,
   "metadata": {},
   "outputs": [
    {
     "name": "stdout",
     "output_type": "stream",
     "text": [
      "                 :-) GROMACS - gmx editconf, VERSION 5.1.2 (-:\r\n",
      "\r\n",
      "                            GROMACS is written by:\r\n",
      "     Emile Apol      Rossen Apostolov  Herman J.C. Berendsen    Par Bjelkmar   \r\n",
      " Aldert van Buuren   Rudi van Drunen     Anton Feenstra   Sebastian Fritsch \r\n",
      "  Gerrit Groenhof   Christoph Junghans   Anca Hamuraru    Vincent Hindriksen\r\n",
      " Dimitrios Karkoulis    Peter Kasson        Jiri Kraus      Carsten Kutzner  \r\n",
      "    Per Larsson      Justin A. Lemkul   Magnus Lundborg   Pieter Meulenhoff \r\n",
      "   Erik Marklund      Teemu Murtola       Szilard Pall       Sander Pronk   \r\n",
      "   Roland Schulz     Alexey Shvetsov     Michael Shirts     Alfons Sijbers  \r\n",
      "   Peter Tieleman    Teemu Virolainen  Christian Wennberg    Maarten Wolf   \r\n",
      "                           and the project leaders:\r\n",
      "        Mark Abraham, Berk Hess, Erik Lindahl, and David van der Spoel\r\n",
      "\r\n",
      "Copyright (c) 1991-2000, University of Groningen, The Netherlands.\r\n",
      "Copyright (c) 2001-2015, The GROMACS development team at\r\n",
      "Uppsala University, Stockholm University and\r\n",
      "the Royal Institute of Technology, Sweden.\r\n",
      "check out http://www.gromacs.org for more information.\r\n",
      "\r\n",
      "GROMACS is free software; you can redistribute it and/or modify it\r\n",
      "under the terms of the GNU Lesser General Public License\r\n",
      "as published by the Free Software Foundation; either version 2.1\r\n",
      "of the License, or (at your option) any later version.\r\n",
      "\r\n",
      "GROMACS:      gmx editconf, VERSION 5.1.2\r\n",
      "Executable:   /home/soft/gromacs/gromacs-5.1.2/inst/cuda_shared/bin/gmx\r\n",
      "Data prefix:  /home/soft/gromacs/gromacs-5.1.2/inst/cuda_shared\r\n",
      "Command line:\r\n",
      "  gmx editconf -f 2xUBQ_aa_raw.gro -o 2xUBQ_aa_raw.pdb\r\n",
      "\r\n",
      "Read 1524 atoms\r\n",
      "Volume: 1006.32 nm^3, corresponds to roughly 452800 electrons\r\n",
      "No velocities found\r\n",
      "\r\n",
      "Back Off! I just backed up 2xUBQ_aa_raw.pdb to ./#2xUBQ_aa_raw.pdb.2#\r\n",
      "\r\n",
      "gcq#22: \"I Had So Many Problem, and Then I Got Me a Walkman\" (F. Black)\r\n",
      "\r\n"
     ]
    }
   ],
   "source": [
    "!gmx editconf -f {aa_structure_raw} -o 2xUBQ_aa_raw.pdb "
   ]
  },
  {
   "cell_type": "markdown",
   "metadata": {},
   "source": [
    "The atomistic structure after backmapping is highly unphysical and has to be energy minimized to obtain a proper structure. Therefore, we perform energy minimization in three steps:\n",
    "1. Backbone position constrained, small em step, higher force threshold, no bond constraints \n",
    "2. Backbone position constrained, bigger em step, lower force threshold, no bond constraints\n",
    "3. no position constraints, bigger em step, lower force threshold, bonds constrained with LINKS "
   ]
  },
  {
   "cell_type": "code",
   "execution_count": 11,
   "metadata": {},
   "outputs": [
    {
     "data": {
      "text/plain": [
       "True"
      ]
     },
     "execution_count": 11,
     "metadata": {},
     "output_type": "execute_result"
    }
   ],
   "source": [
    "# note: add running rabbit to setup simulations, therefore prepare rr template for EQ of backmapped structures\n",
    "rabbit              = rr.Rabbit(ff=\"gromos54a7\", template_name=\"backmap_em\")\n",
    "rabbit.structure    = \"./2xUBQ_aa_raw.pdb\"\n",
    "rabbit.topology     = aa_topology\n",
    "rabbit.destination  = path_em\n",
    "rabbit.run()"
   ]
  },
  {
   "cell_type": "code",
   "execution_count": 12,
   "metadata": {},
   "outputs": [],
   "source": [
    "# run EM\n",
    "!cd em_after_backmap && bash setup"
   ]
  },
  {
   "cell_type": "code",
   "execution_count": 13,
   "metadata": {},
   "outputs": [],
   "source": [
    "# copy final structure\n",
    "!cp {path_em}/eq5.pdb {aa_structure}"
   ]
  },
  {
   "cell_type": "code",
   "execution_count": 14,
   "metadata": {},
   "outputs": [
    {
     "name": "stdout",
     "output_type": "stream",
     "text": [
      "                 :-) GROMACS - gmx editconf, VERSION 5.1.2 (-:\r\n",
      "\r\n",
      "                            GROMACS is written by:\r\n",
      "     Emile Apol      Rossen Apostolov  Herman J.C. Berendsen    Par Bjelkmar   \r\n",
      " Aldert van Buuren   Rudi van Drunen     Anton Feenstra   Sebastian Fritsch \r\n",
      "  Gerrit Groenhof   Christoph Junghans   Anca Hamuraru    Vincent Hindriksen\r\n",
      " Dimitrios Karkoulis    Peter Kasson        Jiri Kraus      Carsten Kutzner  \r\n",
      "    Per Larsson      Justin A. Lemkul   Magnus Lundborg   Pieter Meulenhoff \r\n",
      "   Erik Marklund      Teemu Murtola       Szilard Pall       Sander Pronk   \r\n",
      "   Roland Schulz     Alexey Shvetsov     Michael Shirts     Alfons Sijbers  \r\n",
      "   Peter Tieleman    Teemu Virolainen  Christian Wennberg    Maarten Wolf   \r\n",
      "                           and the project leaders:\r\n",
      "        Mark Abraham, Berk Hess, Erik Lindahl, and David van der Spoel\r\n",
      "\r\n",
      "Copyright (c) 1991-2000, University of Groningen, The Netherlands.\r\n",
      "Copyright (c) 2001-2015, The GROMACS development team at\r\n",
      "Uppsala University, Stockholm University and\r\n",
      "the Royal Institute of Technology, Sweden.\r\n",
      "check out http://www.gromacs.org for more information.\r\n",
      "\r\n",
      "GROMACS is free software; you can redistribute it and/or modify it\r\n",
      "under the terms of the GNU Lesser General Public License\r\n",
      "as published by the Free Software Foundation; either version 2.1\r\n",
      "of the License, or (at your option) any later version.\r\n",
      "\r\n",
      "GROMACS:      gmx editconf, VERSION 5.1.2\r\n",
      "Executable:   /home/soft/gromacs/gromacs-5.1.2/inst/cuda_shared/bin/gmx\r\n",
      "Data prefix:  /home/soft/gromacs/gromacs-5.1.2/inst/cuda_shared\r\n",
      "Command line:\r\n",
      "  gmx editconf -f 2xUBQ_aa.pdb -o 2xUBQ_aa.pdb -pbc yes\r\n",
      "\r\n",
      "Read 1524 atoms\r\n",
      "Volume: 1006.32 nm^3, corresponds to roughly 452800 electrons\r\n",
      "No velocities found\r\n",
      "\r\n",
      "Back Off! I just backed up 2xUBQ_aa.pdb to ./#2xUBQ_aa.pdb.1#\r\n",
      "\r\n",
      "gcq#57: \"I Could Take You Home and Abuse You\" (Magnapop)\r\n",
      "\r\n"
     ]
    }
   ],
   "source": [
    "# note: some atoms are not in the first unit cell after mackmapping\n",
    "# resolve by:\n",
    "!gmx editconf -f {aa_structure} -o {aa_structure} -pbc yes"
   ]
  },
  {
   "cell_type": "code",
   "execution_count": null,
   "metadata": {},
   "outputs": [],
   "source": []
  }
 ],
 "metadata": {
  "kernelspec": {
   "display_name": "Python 3",
   "language": "python",
   "name": "python3"
  },
  "language_info": {
   "codemirror_mode": {
    "name": "ipython",
    "version": 3
   },
   "file_extension": ".py",
   "mimetype": "text/x-python",
   "name": "python",
   "nbconvert_exporter": "python",
   "pygments_lexer": "ipython3",
   "version": "3.5.2"
  },
  "toc": {
   "base_numbering": 1,
   "nav_menu": {},
   "number_sections": true,
   "sideBar": true,
   "skip_h1_title": false,
   "title_cell": "Table of Contents",
   "title_sidebar": "Contents",
   "toc_cell": false,
   "toc_position": {},
   "toc_section_display": true,
   "toc_window_display": false
  }
 },
 "nbformat": 4,
 "nbformat_minor": 2
}
