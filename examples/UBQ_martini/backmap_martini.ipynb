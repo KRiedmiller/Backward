{
 "cells": [
  {
   "cell_type": "markdown",
   "metadata": {},
   "source": [
    "# Backmap a MARTINI CG structure\n",
    "To obtain an atomistic structure from coarse grained simulations we need a CG structure and a topology file for the atomistic system."
   ]
  },
  {
   "cell_type": "code",
   "execution_count": null,
   "metadata": {},
   "outputs": [],
   "source": [
    "import running_rabbit as rr"
   ]
  },
  {
   "cell_type": "code",
   "execution_count": null,
   "metadata": {},
   "outputs": [],
   "source": [
    "# input\n",
    "cg_structure = \"2xUBQ_cg.pdb\"            # coarse grained structure for backmapping\n",
    "aa_topology  = \"2xUBQ_aa.top\"            # atomistic topology\n",
    "\n",
    "# output\n",
    "aa_structure_raw = \"2xUBQ_aa_raw.gro\"    # initial structure after running backward.py\n",
    "aa_structure     = \"2xUBQ_aa.gro\"        # final structure after energy min.\n",
    "path_em          = \"./em_after_backmap\""
   ]
  },
  {
   "cell_type": "code",
   "execution_count": null,
   "metadata": {},
   "outputs": [],
   "source": [
    "# HOTFIX, convert into package at some point?\n",
    "backward = \"python ../../backward.py\""
   ]
  },
  {
   "cell_type": "code",
   "execution_count": null,
   "metadata": {},
   "outputs": [],
   "source": [
    "# perform backmapping\n",
    "# backward script has some bugs and will give some error warnings for lipids\n",
    "# should not be a problem for proteins\n",
    "!{backward} -f {cg_structure} -p {aa_topology} -o {aa_structure_raw} -to gromos -kick 0.05"
   ]
  },
  {
   "cell_type": "markdown",
   "metadata": {},
   "source": [
    "The atomistic structure after backmapping is highly unphysical and has to be energy minimized to obtain a proper structure. Therefore, we perform energy minimization in three steps:\n",
    "1. Backbone position restrained, small em step, higher force threshold, no bond constraints \n",
    "2. Backbone position restrained, bigger em step, lower force threshold, no bond constraints\n",
    "3. no position restraints, bigger em step, lower force threshold, bonds constrained with LINKS "
   ]
  },
  {
   "cell_type": "code",
   "execution_count": null,
   "metadata": {},
   "outputs": [],
   "source": [
    "# note: this is a special running rabbit template for backmapping\n",
    "rabbit              = rr.Rabbit(ff=\"gromos54a7\", template_name=\"backmap_em\")\n",
    "rabbit.structure    = aa_structure_raw\n",
    "rabbit.topology     = aa_topology\n",
    "rabbit.destination  = path_em\n",
    "rabbit.run()"
   ]
  },
  {
   "cell_type": "code",
   "execution_count": null,
   "metadata": {},
   "outputs": [],
   "source": [
    "# run EM\n",
    "!cd em_after_backmap && bash setup"
   ]
  },
  {
   "cell_type": "code",
   "execution_count": null,
   "metadata": {},
   "outputs": [],
   "source": [
    "# copy final structure\n",
    "!cp {path_em}/eq5.gro {aa_structure}"
   ]
  },
  {
   "cell_type": "code",
   "execution_count": null,
   "metadata": {},
   "outputs": [],
   "source": [
    "# note: some atoms are not in the first unit cell after mackmapping\n",
    "# resolve by:\n",
    "!gmx editconf -f {aa_structure} -o {aa_structure} -pbc yes"
   ]
  },
  {
   "cell_type": "code",
   "execution_count": null,
   "metadata": {},
   "outputs": [],
   "source": []
  }
 ],
 "metadata": {
  "kernelspec": {
   "display_name": "Python 3",
   "language": "python",
   "name": "python3"
  },
  "language_info": {
   "codemirror_mode": {
    "name": "ipython",
    "version": 3
   },
   "file_extension": ".py",
   "mimetype": "text/x-python",
   "name": "python",
   "nbconvert_exporter": "python",
   "pygments_lexer": "ipython3",
   "version": "3.5.2"
  },
  "toc": {
   "base_numbering": 1,
   "nav_menu": {},
   "number_sections": true,
   "sideBar": true,
   "skip_h1_title": false,
   "title_cell": "Table of Contents",
   "title_sidebar": "Contents",
   "toc_cell": false,
   "toc_position": {},
   "toc_section_display": true,
   "toc_window_display": false
  }
 },
 "nbformat": 4,
 "nbformat_minor": 2
}
